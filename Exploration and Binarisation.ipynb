{
 "cells": [
  {
   "cell_type": "code",
   "execution_count": 1,
   "id": "69fcc9f5",
   "metadata": {},
   "outputs": [],
   "source": [
    "import pandas as pd\n",
    "import numpy as np\n",
    "import scipy as sp\n",
    "import matplotlib.pyplot as plt\n",
    "from sklearn.model_selection import train_test_split"
   ]
  },
  {
   "cell_type": "code",
   "execution_count": 2,
   "id": "de549bdc",
   "metadata": {},
   "outputs": [
    {
     "data": {
      "text/plain": [
       "532"
      ]
     },
     "execution_count": 2,
     "metadata": {},
     "output_type": "execute_result"
    }
   ],
   "source": [
    "clean_dataset = pd.read_csv('Dataset.txt')\n",
    "clean_dataset.head()\n",
    "len(clean_dataset)"
   ]
  },
  {
   "cell_type": "code",
   "execution_count": 3,
   "id": "94b4f6e9",
   "metadata": {},
   "outputs": [
    {
     "name": "stdout",
     "output_type": "stream",
     "text": [
      "0.05703389424812028\n"
     ]
    }
   ],
   "source": [
    "NBC = clean_dataset['Number of businesses per capita']\n",
    "meanNBC = NBC.mean()\n",
    "print(meanNBC)"
   ]
  },
  {
   "cell_type": "code",
   "execution_count": 4,
   "id": "0254135b",
   "metadata": {},
   "outputs": [],
   "source": [
    "# using a conditional statement, list bool of NBC samples\n",
    "NBC < meanNBC"
   ]
  },
  {
   "cell_type": "code",
   "execution_count": 5,
   "id": "076338ff",
   "metadata": {},
   "outputs": [],
   "source": [
    "# new dataframe with only the data about the dead\n",
    "lowNBC = clean_dataset[NBC <= meanNBC]\n",
    "lowNBC.head()"
   ]
  },
  {
   "cell_type": "code",
   "execution_count": 6,
   "id": "490ccb78",
   "metadata": {},
   "outputs": [],
   "source": [
    "highNBC = clean_dataset[NBC > meanNBC]"
   ]
  },
  {
   "cell_type": "code",
   "execution_count": 7,
   "id": "92b8cd60",
   "metadata": {},
   "outputs": [],
   "source": [
    "#create scatter graph to check binarised properly\n",
    "clean_dataset.plot.scatter(x='Number of businesses per capita', y='Unemployment Rate', figsize=(10, 8))\n",
    "my_canvas = highNBC.plot.scatter(x='Number of businesses per capita', y='Unemployment Rate', figsize=(10, 8), color = 'green')\n",
    "lowNBC.plot.scatter(x='Number of businesses per capita', y='Unemployment Rate', figsize=(10, 8), ax=my_canvas, color='red')"
   ]
  },
  {
   "cell_type": "code",
   "execution_count": 8,
   "id": "68430a5f",
   "metadata": {},
   "outputs": [],
   "source": [
    "#create histogram to see distribution\n",
    "the_figure = highNBC.plot.hist(figsize=(10, 8), color='green')\n",
    "lowNBC.plot.hist(figsize=(10, 8), color='red', ax = the_figure)\n",
    "the_figure = NBC.plot.hist(figsize=(10, 8))"
   ]
  }
 ],
 "metadata": {
  "kernelspec": {
   "display_name": "Python 3 (ipykernel)",
   "language": "python",
   "name": "python3"
  },
  "language_info": {
   "codemirror_mode": {
    "name": "ipython",
    "version": 3
   },
   "file_extension": ".py",
   "mimetype": "text/x-python",
   "name": "python",
   "nbconvert_exporter": "python",
   "pygments_lexer": "ipython3",
   "version": "3.9.12"
  }
 },
 "nbformat": 4,
 "nbformat_minor": 5
}
